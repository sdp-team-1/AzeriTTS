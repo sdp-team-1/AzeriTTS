{
 "cells": [
  {
   "cell_type": "code",
   "execution_count": 1,
   "metadata": {
    "colab": {
     "base_uri": "https://localhost:8080/"
    },
    "executionInfo": {
     "elapsed": 5074,
     "status": "ok",
     "timestamp": 1613374559489,
     "user": {
      "displayName": "SDP Team",
      "photoUrl": "",
      "userId": "12226186451424898840"
     },
     "user_tz": -240
    },
    "id": "BlunEsS9CNui",
    "outputId": "0f746ab3-c098-4119-da1d-f84d78e8f4b1"
   },
   "outputs": [
    {
     "name": "stdout",
     "output_type": "stream",
     "text": [
      "Requirement already satisfied: pydub in /usr/local/lib/python3.9/site-packages (0.24.1)\n",
      "\u001b[33mWARNING: You are using pip version 20.3.3; however, version 21.0.1 is available.\n",
      "You should consider upgrading via the '/usr/local/opt/python@3.9/bin/python3.9 -m pip install --upgrade pip' command.\u001b[0m\n"
     ]
    }
   ],
   "source": [
    "!pip install pydub"
   ]
  },
  {
   "cell_type": "code",
   "execution_count": 1,
   "metadata": {
    "executionInfo": {
     "elapsed": 648,
     "status": "ok",
     "timestamp": 1613377601852,
     "user": {
      "displayName": "SDP Team",
      "photoUrl": "",
      "userId": "12226186451424898840"
     },
     "user_tz": -240
    },
    "id": "WMGV7moQpbgt"
   },
   "outputs": [],
   "source": [
    "import glob\n",
    "from pydub import AudioSegment\n",
    "import pandas as pd\n",
    "import json\n",
    "import numpy as np\n",
    "import os\n",
    "import re"
   ]
  },
  {
   "cell_type": "code",
   "execution_count": 2,
   "metadata": {
    "executionInfo": {
     "elapsed": 661,
     "status": "ok",
     "timestamp": 1613374605777,
     "user": {
      "displayName": "SDP Team",
      "photoUrl": "",
      "userId": "12226186451424898840"
     },
     "user_tz": -240
    },
    "id": "lj0jyo59mpI9"
   },
   "outputs": [],
   "source": [
    "DATA_DIR = '/Users/terlanismayilsoy/Education/Ders/SPRING 2021/Senior Design Project II/Local Samples/Training Files/'\n",
    "AUDIO_OUTPUT_DIR = '/Users/terlanismayilsoy/Education/Ders/SPRING 2021/Senior Design Project II/Local Samples/Audio Output/'\n",
    "\n",
    "BOOKS = [\n",
    "         'Bulanlıq Dünya',\n",
    "         'Səfillər'\n",
    "]"
   ]
  },
  {
   "cell_type": "code",
   "execution_count": null,
   "metadata": {},
   "outputs": [],
   "source": [
    "# FOR TESTING FILE MATCHES"
   ]
  },
  {
   "cell_type": "code",
   "execution_count": null,
   "metadata": {
    "scrolled": true
   },
   "outputs": [],
   "source": [
    "counter = 0\n",
    "\n",
    "for book_name in BOOKS:\n",
    "    book_path = DATA_DIR + book_name + '/'\n",
    "    \n",
    "    syncmap_paths = sorted(glob.glob(book_path + '**/*.json', recursive=True))\n",
    "    audio_paths = sorted(glob.glob(book_path + '**/*.mp3', recursive=True))\n",
    "    \n",
    "#     pattern = re.compile('\\d*')\n",
    "    pattern = re.compile('book.*')\n",
    "#     print(syncmap_paths, audio_paths)\n",
    "    for syncmap_path, audio_path in zip(syncmap_paths, audio_paths):\n",
    "#         print(os.path.basename(syncmap_path), os.path.basename(audio_path))\n",
    "#         syncMatch, audioMatch = pattern.match(os.path.basename(syncmap_path)), pattern.match(os.path.basename(audio_path))\n",
    "        syncMatch, audioMatch = pattern.search(syncmap_path), pattern.search(audio_path)\n",
    "        \n",
    "        print(syncMatch.group(0), '->' , audioMatch.group(0))\n",
    "        \n",
    "#         if syncMatch.group(0) != audioMatch.group(0):\n",
    "#             print(syncmap_path, audio_path)\n",
    "            \n",
    "#         counter += 1\n",
    "        \n",
    "# print(counter)\n",
    "        "
   ]
  },
  {
   "cell_type": "code",
   "execution_count": 3,
   "metadata": {},
   "outputs": [],
   "source": [
    "# NORMALIZATION\n",
    "from num2words import num2words\n",
    "import pandas as pd\n",
    "import numpy as np\n",
    "import re\n",
    "\n",
    "def normalize_num(num: str, is_ordinal: bool):\n",
    "\t\"\"\"Converts the given number to words\"\"\"\n",
    "\t\n",
    "\tif num == \"0\":\n",
    "\t\treturn 'sıfır'\n",
    "\t\n",
    "\tturkish_str = num2words(int(num), lang='tr', ordinal = is_ordinal)\n",
    "\n",
    "\taze_str = translate_to_aze(turkish_str)\n",
    "\t\n",
    "\treturn aze_str\n",
    "\n",
    "def translate_to_aze(turkish_str: str):\n",
    "\t\"\"\"Translates the given turkish string to azerbaijani\"\"\"\n",
    "\t\n",
    "\taze_str = turkish_str\n",
    "\t\n",
    "\taze_str = aze_str.replace('dört', 'dörd')\n",
    "\taze_str = aze_str.replace('yedi', 'yeddi')\n",
    "\taze_str = aze_str.replace('sekiz', 'səkkiz')\n",
    "\taze_str = aze_str.replace('dokuz', 'doqquz')\n",
    "\taze_str = aze_str.replace('yirmi', 'iyirmi')\n",
    "\taze_str = aze_str.replace('kırk', 'qırx')\n",
    "\taze_str = aze_str.replace('elli', 'əlli')\n",
    "\taze_str = aze_str.replace('seksen', 'səksən')\n",
    "\taze_str = aze_str.replace('doksan', 'doxsan')\n",
    "\taze_str = aze_str.replace('bin', 'min')\n",
    "\taze_str = aze_str.replace('milyar', 'milyard')\n",
    "\taze_str = aze_str.replace('katrilyon', 'kvadrilyon')\n",
    "\taze_str = aze_str.replace('kentilyon', 'kvintilyon')\n",
    "\t\n",
    "\treturn aze_str"
   ]
  },
  {
   "cell_type": "code",
   "execution_count": 4,
   "metadata": {
    "colab": {
     "base_uri": "https://localhost:8080/"
    },
    "executionInfo": {
     "elapsed": 2258459,
     "status": "ok",
     "timestamp": 1613376871211,
     "user": {
      "displayName": "SDP Team",
      "photoUrl": "",
      "userId": "12226186451424898840"
     },
     "user_tz": -240
    },
    "id": "MD_wOFE0SNBO",
    "outputId": "62199aaf-5979-4a00-b931-f8280ab09a27"
   },
   "outputs": [],
   "source": [
    "FILE_COUNTER = 1\n",
    "df = pd.DataFrame(columns=['filename', 'text', 'normalized_text'])\n",
    "\n",
    "for book_name in BOOKS:\n",
    "    book_path = DATA_DIR + book_name + '/'\n",
    "    \n",
    "    syncmap_paths = sorted(glob.glob(book_path + '**/*.json', recursive=True))\n",
    "    audio_paths = sorted(glob.glob(book_path + '**/*.mp3', recursive=True));\n",
    "    \n",
    "#     print(*zip(syncmap_paths, audio_paths))\n",
    "    \n",
    "    for syncmap_path, audio_path in zip(syncmap_paths, audio_paths):\n",
    "        audio_segment = AudioSegment.from_mp3(audio_path)\n",
    "        audio_segment = audio_segment.set_channels(1)\n",
    "        audio_segment = audio_segment.set_frame_rate(22050)\n",
    "        \n",
    "        with open(syncmap_path) as file:\n",
    "            syncmap = json.loads(file.read())\n",
    "\n",
    "        sentences = []\n",
    "\n",
    "        for fragment in syncmap['fragments']:\n",
    "            sentences.append({'audio': audio_segment[float(fragment['begin']) * 1000 : float(fragment['end']) * 1000], 'text': fragment['lines'][0]})\n",
    "\n",
    "        for idx, sentence in enumerate(sentences):\n",
    "#             if FILE_COUNTER % 1000 == 0:\n",
    "#                 print('Current segment: {}'.format(FILE_COUNTER))\n",
    "\n",
    "            text = sentence['text'].lower()\n",
    "            duration = sentence['audio'].duration_seconds\n",
    "            \n",
    "            if duration > 10:\n",
    "                continue\n",
    "        \n",
    "            if type(text) is not str: # deleting empty string\n",
    "                continue\n",
    "            \n",
    "            matches = re.findall('(\\d+-([a-zöəüğçşı]{3}|[a-zöəüğçşı]{2})|\\d+)', text)\n",
    "            \n",
    "            sentence_new = text\n",
    "            \n",
    "            if matches:\n",
    "                for match in matches:\n",
    "                    num, group = match\n",
    "                    num = re.search('\\d+', num)[0]\n",
    "\n",
    "                    if group in ['cı', 'ci', 'cu', 'cü']:\n",
    "                        sentence_new = text.replace(match[0], normalize_num(num, True)[:-1])\n",
    "                    else:\n",
    "                        sentence_new = text.replace(match[0], normalize_num(num, False)[:-1] + group)\n",
    "            \n",
    "            sentence['audio'].export(AUDIO_OUTPUT_DIR + 'sample-' + str(FILE_COUNTER + idx) + '.wav', format='wav')\n",
    "            temp_df = pd.DataFrame([{'filename': 'sample-' + str(FILE_COUNTER + idx), 'text': text, 'normalized_text' : sentence_new}], columns=['filename','text', 'normalized_text'])\n",
    "            df = df.append(temp_df, ignore_index=True)\n",
    "\n",
    "        FILE_COUNTER += len(sentences)\n",
    "\n"
   ]
  },
  {
   "cell_type": "code",
   "execution_count": 5,
   "metadata": {
    "colab": {
     "base_uri": "https://localhost:8080/",
     "height": 402
    },
    "executionInfo": {
     "elapsed": 661,
     "status": "ok",
     "timestamp": 1613377560055,
     "user": {
      "displayName": "SDP Team",
      "photoUrl": "",
      "userId": "12226186451424898840"
     },
     "user_tz": -240
    },
    "id": "vhkd5QOX9BHj",
    "outputId": "d52ed39a-6c36-4dff-8121-ad20e80c84a4"
   },
   "outputs": [
    {
     "data": {
      "text/html": [
       "<div>\n",
       "<style scoped>\n",
       "    .dataframe tbody tr th:only-of-type {\n",
       "        vertical-align: middle;\n",
       "    }\n",
       "\n",
       "    .dataframe tbody tr th {\n",
       "        vertical-align: top;\n",
       "    }\n",
       "\n",
       "    .dataframe thead th {\n",
       "        text-align: right;\n",
       "    }\n",
       "</style>\n",
       "<table border=\"1\" class=\"dataframe\">\n",
       "  <thead>\n",
       "    <tr style=\"text-align: right;\">\n",
       "      <th></th>\n",
       "      <th>filename</th>\n",
       "      <th>text</th>\n",
       "      <th>normalized_text</th>\n",
       "    </tr>\n",
       "  </thead>\n",
       "  <tbody>\n",
       "    <tr>\n",
       "      <th>0</th>\n",
       "      <td>sample-1</td>\n",
       "      <td>nadir nüsxə olan, başqa kitabxanalarda tapılma...</td>\n",
       "      <td>nadir nüsxə olan, başqa kitabxanalarda tapılma...</td>\n",
       "    </tr>\n",
       "    <tr>\n",
       "      <th>1</th>\n",
       "      <td>sample-2</td>\n",
       "      <td>ona buranı salıx vermişdilər.</td>\n",
       "      <td>ona buranı salıx vermişdilər.</td>\n",
       "    </tr>\n",
       "    <tr>\n",
       "      <th>2</th>\n",
       "      <td>sample-3</td>\n",
       "      <td>əfsun i̇qtisad i̇nstitutunda təhsil alırdı.</td>\n",
       "      <td>əfsun i̇qtisad i̇nstitutunda təhsil alırdı.</td>\n",
       "    </tr>\n",
       "    <tr>\n",
       "      <th>3</th>\n",
       "      <td>sample-4</td>\n",
       "      <td>“maliyyə-kredit” fakültəsinin üçüncü kurs tələ...</td>\n",
       "      <td>“maliyyə-kredit” fakültəsinin üçüncü kurs tələ...</td>\n",
       "    </tr>\n",
       "    <tr>\n",
       "      <th>4</th>\n",
       "      <td>sample-5</td>\n",
       "      <td>əla qiymətlərlə oxuyurdu.</td>\n",
       "      <td>əla qiymətlərlə oxuyurdu.</td>\n",
       "    </tr>\n",
       "    <tr>\n",
       "      <th>...</th>\n",
       "      <td>...</td>\n",
       "      <td>...</td>\n",
       "      <td>...</td>\n",
       "    </tr>\n",
       "    <tr>\n",
       "      <th>27286</th>\n",
       "      <td>sample-27797</td>\n",
       "      <td>i̇ctimai qayda-qanun ciddi bir şəkildə pozulsa...</td>\n",
       "      <td>i̇ctimai qayda-qanun ciddi bir şəkildə pozulsa...</td>\n",
       "    </tr>\n",
       "    <tr>\n",
       "      <th>27287</th>\n",
       "      <td>sample-27798</td>\n",
       "      <td>monastıra gəlincə, onun foşlevana bəslədiyi mi...</td>\n",
       "      <td>monastıra gəlincə, onun foşlevana bəslədiyi mi...</td>\n",
       "    </tr>\n",
       "    <tr>\n",
       "      <th>27288</th>\n",
       "      <td>sample-27799</td>\n",
       "      <td>foşlevan monastırın ən yaxşı xidmətçilərindən ...</td>\n",
       "      <td>foşlevan monastırın ən yaxşı xidmətçilərindən ...</td>\n",
       "    </tr>\n",
       "    <tr>\n",
       "      <th>27289</th>\n",
       "      <td>sample-27802</td>\n",
       "      <td>foşlevanın şöhrəti bununla da qurtarmadı, lap ...</td>\n",
       "      <td>foşlevanın şöhrəti bununla da qurtarmadı, lap ...</td>\n",
       "    </tr>\n",
       "    <tr>\n",
       "      <th>27290</th>\n",
       "      <td>sample-27804</td>\n",
       "      <td>―paris monastırlarının birində fovan adlı gözə...</td>\n",
       "      <td>―paris monastırlarının birində fovan adlı gözə...</td>\n",
       "    </tr>\n",
       "  </tbody>\n",
       "</table>\n",
       "<p>27291 rows × 3 columns</p>\n",
       "</div>"
      ],
      "text/plain": [
       "           filename                                               text  \\\n",
       "0          sample-1  nadir nüsxə olan, başqa kitabxanalarda tapılma...   \n",
       "1          sample-2                      ona buranı salıx vermişdilər.   \n",
       "2          sample-3        əfsun i̇qtisad i̇nstitutunda təhsil alırdı.   \n",
       "3          sample-4  “maliyyə-kredit” fakültəsinin üçüncü kurs tələ...   \n",
       "4          sample-5                          əla qiymətlərlə oxuyurdu.   \n",
       "...             ...                                                ...   \n",
       "27286  sample-27797  i̇ctimai qayda-qanun ciddi bir şəkildə pozulsa...   \n",
       "27287  sample-27798  monastıra gəlincə, onun foşlevana bəslədiyi mi...   \n",
       "27288  sample-27799  foşlevan monastırın ən yaxşı xidmətçilərindən ...   \n",
       "27289  sample-27802  foşlevanın şöhrəti bununla da qurtarmadı, lap ...   \n",
       "27290  sample-27804  ―paris monastırlarının birində fovan adlı gözə...   \n",
       "\n",
       "                                         normalized_text  \n",
       "0      nadir nüsxə olan, başqa kitabxanalarda tapılma...  \n",
       "1                          ona buranı salıx vermişdilər.  \n",
       "2            əfsun i̇qtisad i̇nstitutunda təhsil alırdı.  \n",
       "3      “maliyyə-kredit” fakültəsinin üçüncü kurs tələ...  \n",
       "4                              əla qiymətlərlə oxuyurdu.  \n",
       "...                                                  ...  \n",
       "27286  i̇ctimai qayda-qanun ciddi bir şəkildə pozulsa...  \n",
       "27287  monastıra gəlincə, onun foşlevana bəslədiyi mi...  \n",
       "27288  foşlevan monastırın ən yaxşı xidmətçilərindən ...  \n",
       "27289  foşlevanın şöhrəti bununla da qurtarmadı, lap ...  \n",
       "27290  ―paris monastırlarının birində fovan adlı gözə...  \n",
       "\n",
       "[27291 rows x 3 columns]"
      ]
     },
     "execution_count": 5,
     "metadata": {},
     "output_type": "execute_result"
    }
   ],
   "source": [
    "df"
   ]
  },
  {
   "cell_type": "code",
   "execution_count": 6,
   "metadata": {
    "executionInfo": {
     "elapsed": 629,
     "status": "ok",
     "timestamp": 1613377606618,
     "user": {
      "displayName": "SDP Team",
      "photoUrl": "",
      "userId": "12226186451424898840"
     },
     "user_tz": -240
    },
    "id": "-NC1B0Ri8s-c"
   },
   "outputs": [],
   "source": [
    "np.savetxt('/Users/terlanismayilsoy/Education/Ders/SPRING 2021/Senior Design Project II/Local Samples/metadata_3_col.csv', df, delimiter='|', fmt='%s')"
   ]
  },
  {
   "cell_type": "code",
   "execution_count": 17,
   "metadata": {
    "executionInfo": {
     "elapsed": 724,
     "status": "ok",
     "timestamp": 1613377425792,
     "user": {
      "displayName": "SDP Team",
      "photoUrl": "",
      "userId": "12226186451424898840"
     },
     "user_tz": -240
    },
    "id": "NGCQEmkNxtUk"
   },
   "outputs": [],
   "source": [
    "np.savetxt(AUDIO_OUTPUT_DIR + 'metadata.csv', df, delimiter='|', fmt='%s')"
   ]
  },
  {
   "cell_type": "code",
   "execution_count": 23,
   "metadata": {
    "colab": {
     "base_uri": "https://localhost:8080/",
     "height": 17
    },
    "executionInfo": {
     "elapsed": 671,
     "status": "ok",
     "timestamp": 1613377628001,
     "user": {
      "displayName": "SDP Team",
      "photoUrl": "",
      "userId": "12226186451424898840"
     },
     "user_tz": -240
    },
    "id": "KgAV4d3szKoU",
    "outputId": "659d9680-cf64-46b6-d387-3fed1c9ae845"
   },
   "outputs": [
    {
     "data": {
      "application/javascript": [
       "\n",
       "    async function download(id, filename, size) {\n",
       "      if (!google.colab.kernel.accessAllowed) {\n",
       "        return;\n",
       "      }\n",
       "      const div = document.createElement('div');\n",
       "      const label = document.createElement('label');\n",
       "      label.textContent = `Downloading \"${filename}\": `;\n",
       "      div.appendChild(label);\n",
       "      const progress = document.createElement('progress');\n",
       "      progress.max = size;\n",
       "      div.appendChild(progress);\n",
       "      document.body.appendChild(div);\n",
       "\n",
       "      const buffers = [];\n",
       "      let downloaded = 0;\n",
       "\n",
       "      const channel = await google.colab.kernel.comms.open(id);\n",
       "      // Send a message to notify the kernel that we're ready.\n",
       "      channel.send({})\n",
       "\n",
       "      for await (const message of channel.messages) {\n",
       "        // Send a message to notify the kernel that we're ready.\n",
       "        channel.send({})\n",
       "        if (message.buffers) {\n",
       "          for (const buffer of message.buffers) {\n",
       "            buffers.push(buffer);\n",
       "            downloaded += buffer.byteLength;\n",
       "            progress.value = downloaded;\n",
       "          }\n",
       "        }\n",
       "      }\n",
       "      const blob = new Blob(buffers, {type: 'application/binary'});\n",
       "      const a = document.createElement('a');\n",
       "      a.href = window.URL.createObjectURL(blob);\n",
       "      a.download = filename;\n",
       "      div.appendChild(a);\n",
       "      a.click();\n",
       "      div.remove();\n",
       "    }\n",
       "  "
      ],
      "text/plain": [
       "<IPython.core.display.Javascript object>"
      ]
     },
     "metadata": {
      "tags": []
     },
     "output_type": "display_data"
    },
    {
     "data": {
      "application/javascript": [
       "download(\"download_9d7a5f59-5e78-4654-9d55-ae6ce7c375d4\", \"metadata.csv\", 2198979)"
      ],
      "text/plain": [
       "<IPython.core.display.Javascript object>"
      ]
     },
     "metadata": {
      "tags": []
     },
     "output_type": "display_data"
    }
   ],
   "source": [
    "from google.colab import files\n",
    "df.to_csv('metadata.csv') \n",
    "files.download('metadata.csv')"
   ]
  },
  {
   "cell_type": "code",
   "execution_count": null,
   "metadata": {
    "id": "CVxao4RMmZRi"
   },
   "outputs": [],
   "source": [
    "from pydrive.auth import GoogleAuth\n",
    "from pydrive.drive import GoogleDrive\n",
    "from google.colab import auth\n",
    "from oauth2client.client import GoogleCredentials\n",
    "\n",
    "auth.authenticate_user()\n",
    "gauth = GoogleAuth()\n",
    "gauth.credentials = GoogleCredentials.get_application_default()\n",
    "my_drive = GoogleDrive(gauth)"
   ]
  },
  {
   "cell_type": "code",
   "execution_count": null,
   "metadata": {
    "colab": {
     "base_uri": "https://localhost:8080/"
    },
    "executionInfo": {
     "elapsed": 10714,
     "status": "error",
     "timestamp": 1613159673522,
     "user": {
      "displayName": "SDP Team",
      "photoUrl": "",
      "userId": "12226186451424898840"
     },
     "user_tz": -240
    },
    "id": "aXSvdU-lmfAI",
    "outputId": "c33d843c-3c53-4ac7-f8e5-0ecf9e1fc28e"
   },
   "outputs": [],
   "source": [
    "for a_file in my_drive.ListFile({'q': \"title contains 'sample'\"}).GetList():\n",
    "    print(a_file)\n",
    "    a_file.Delete()"
   ]
  }
 ],
 "metadata": {
  "colab": {
   "collapsed_sections": [],
   "name": "SDP_Audio_Splitting.ipynb",
   "provenance": [
    {
     "file_id": "1hPf34xcmngrV5D_DSJlqL7L-yRReGlS6",
     "timestamp": 1613150392058
    }
   ]
  },
  "kernelspec": {
   "display_name": "Python 3",
   "language": "python",
   "name": "python3"
  },
  "language_info": {
   "codemirror_mode": {
    "name": "ipython",
    "version": 3
   },
   "file_extension": ".py",
   "mimetype": "text/x-python",
   "name": "python",
   "nbconvert_exporter": "python",
   "pygments_lexer": "ipython3",
   "version": "3.9.1"
  }
 },
 "nbformat": 4,
 "nbformat_minor": 1
}
